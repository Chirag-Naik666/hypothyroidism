{
 "cells": [
  {
   "cell_type": "markdown",
   "metadata": {},
   "source": [
    "## Problem Statement :  To build a classification model to predict HypoThyroidism"
   ]
  },
  {
   "cell_type": "code",
   "execution_count": 36,
   "metadata": {},
   "outputs": [],
   "source": [
    "#importing libraries\n",
    "import statsmodels.tools.tools as sm\n",
    "import numpy as np\n",
    "import pandas as pd\n",
    "import matplotlib.pyplot as plt\n",
    "import seaborn as sns\n",
    "from sklearn.preprocessing import StandardScaler,MinMaxScaler\n",
    "import statsmodels.api as sm\n",
    "from warnings import filterwarnings\n",
    "filterwarnings('ignore')\n",
    "from sklearn.linear_model import LogisticRegression\n",
    "from sklearn.model_selection import train_test_split\n",
    "from sklearn.metrics import confusion_matrix,accuracy_score,recall_score,roc_auc_score,classification_report,f1_score\n",
    "from sklearn.tree import DecisionTreeClassifier\n",
    "from statsmodels.stats.outliers_influence import variance_inflation_factor\n",
    "\n",
    "from sklearn.utils import resample\n",
    "from imblearn.over_sampling import SMOTENC,RandomOverSampler,KMeansSMOTE\n",
    "from sklearn.impute import KNNImputer\n",
    "from sklearn.preprocessing import LabelEncoder, StandardScaler"
   ]
  },
  {
   "cell_type": "code",
   "execution_count": 2,
   "metadata": {},
   "outputs": [],
   "source": [
    "data  = pd.read_csv('hypothyroid.csv')"
   ]
  },
  {
   "cell_type": "code",
   "execution_count": 3,
   "metadata": {},
   "outputs": [
    {
     "data": {
      "text/html": [
       "<div>\n",
       "<style scoped>\n",
       "    .dataframe tbody tr th:only-of-type {\n",
       "        vertical-align: middle;\n",
       "    }\n",
       "\n",
       "    .dataframe tbody tr th {\n",
       "        vertical-align: top;\n",
       "    }\n",
       "\n",
       "    .dataframe thead th {\n",
       "        text-align: right;\n",
       "    }\n",
       "</style>\n",
       "<table border=\"1\" class=\"dataframe\">\n",
       "  <thead>\n",
       "    <tr style=\"text-align: right;\">\n",
       "      <th></th>\n",
       "      <th>age</th>\n",
       "      <th>sex</th>\n",
       "      <th>on_thyroxine</th>\n",
       "      <th>query_on_thyroxine</th>\n",
       "      <th>on_antithyroid_medication</th>\n",
       "      <th>sick</th>\n",
       "      <th>pregnant</th>\n",
       "      <th>thyroid_surgery</th>\n",
       "      <th>I131_treatment</th>\n",
       "      <th>query_hypothyroid</th>\n",
       "      <th>...</th>\n",
       "      <th>TT4_measured</th>\n",
       "      <th>TT4</th>\n",
       "      <th>T4U_measured</th>\n",
       "      <th>T4U</th>\n",
       "      <th>FTI_measured</th>\n",
       "      <th>FTI</th>\n",
       "      <th>TBG_measured</th>\n",
       "      <th>TBG</th>\n",
       "      <th>referral_source</th>\n",
       "      <th>Class</th>\n",
       "    </tr>\n",
       "  </thead>\n",
       "  <tbody>\n",
       "    <tr>\n",
       "      <th>0</th>\n",
       "      <td>41</td>\n",
       "      <td>F</td>\n",
       "      <td>f</td>\n",
       "      <td>f</td>\n",
       "      <td>f</td>\n",
       "      <td>f</td>\n",
       "      <td>f</td>\n",
       "      <td>f</td>\n",
       "      <td>f</td>\n",
       "      <td>f</td>\n",
       "      <td>...</td>\n",
       "      <td>t</td>\n",
       "      <td>125</td>\n",
       "      <td>t</td>\n",
       "      <td>1.14</td>\n",
       "      <td>t</td>\n",
       "      <td>109</td>\n",
       "      <td>f</td>\n",
       "      <td>?</td>\n",
       "      <td>SVHC</td>\n",
       "      <td>negative</td>\n",
       "    </tr>\n",
       "    <tr>\n",
       "      <th>1</th>\n",
       "      <td>23</td>\n",
       "      <td>F</td>\n",
       "      <td>f</td>\n",
       "      <td>f</td>\n",
       "      <td>f</td>\n",
       "      <td>f</td>\n",
       "      <td>f</td>\n",
       "      <td>f</td>\n",
       "      <td>f</td>\n",
       "      <td>f</td>\n",
       "      <td>...</td>\n",
       "      <td>t</td>\n",
       "      <td>102</td>\n",
       "      <td>f</td>\n",
       "      <td>?</td>\n",
       "      <td>f</td>\n",
       "      <td>?</td>\n",
       "      <td>f</td>\n",
       "      <td>?</td>\n",
       "      <td>other</td>\n",
       "      <td>negative</td>\n",
       "    </tr>\n",
       "    <tr>\n",
       "      <th>2</th>\n",
       "      <td>46</td>\n",
       "      <td>M</td>\n",
       "      <td>f</td>\n",
       "      <td>f</td>\n",
       "      <td>f</td>\n",
       "      <td>f</td>\n",
       "      <td>f</td>\n",
       "      <td>f</td>\n",
       "      <td>f</td>\n",
       "      <td>f</td>\n",
       "      <td>...</td>\n",
       "      <td>t</td>\n",
       "      <td>109</td>\n",
       "      <td>t</td>\n",
       "      <td>0.91</td>\n",
       "      <td>t</td>\n",
       "      <td>120</td>\n",
       "      <td>f</td>\n",
       "      <td>?</td>\n",
       "      <td>other</td>\n",
       "      <td>negative</td>\n",
       "    </tr>\n",
       "    <tr>\n",
       "      <th>3</th>\n",
       "      <td>70</td>\n",
       "      <td>F</td>\n",
       "      <td>t</td>\n",
       "      <td>f</td>\n",
       "      <td>f</td>\n",
       "      <td>f</td>\n",
       "      <td>f</td>\n",
       "      <td>f</td>\n",
       "      <td>f</td>\n",
       "      <td>f</td>\n",
       "      <td>...</td>\n",
       "      <td>t</td>\n",
       "      <td>175</td>\n",
       "      <td>f</td>\n",
       "      <td>?</td>\n",
       "      <td>f</td>\n",
       "      <td>?</td>\n",
       "      <td>f</td>\n",
       "      <td>?</td>\n",
       "      <td>other</td>\n",
       "      <td>negative</td>\n",
       "    </tr>\n",
       "    <tr>\n",
       "      <th>4</th>\n",
       "      <td>70</td>\n",
       "      <td>F</td>\n",
       "      <td>f</td>\n",
       "      <td>f</td>\n",
       "      <td>f</td>\n",
       "      <td>f</td>\n",
       "      <td>f</td>\n",
       "      <td>f</td>\n",
       "      <td>f</td>\n",
       "      <td>f</td>\n",
       "      <td>...</td>\n",
       "      <td>t</td>\n",
       "      <td>61</td>\n",
       "      <td>t</td>\n",
       "      <td>0.87</td>\n",
       "      <td>t</td>\n",
       "      <td>70</td>\n",
       "      <td>f</td>\n",
       "      <td>?</td>\n",
       "      <td>SVI</td>\n",
       "      <td>negative</td>\n",
       "    </tr>\n",
       "  </tbody>\n",
       "</table>\n",
       "<p>5 rows × 30 columns</p>\n",
       "</div>"
      ],
      "text/plain": [
       "  age sex on_thyroxine query_on_thyroxine on_antithyroid_medication sick  \\\n",
       "0  41   F            f                  f                         f    f   \n",
       "1  23   F            f                  f                         f    f   \n",
       "2  46   M            f                  f                         f    f   \n",
       "3  70   F            t                  f                         f    f   \n",
       "4  70   F            f                  f                         f    f   \n",
       "\n",
       "  pregnant thyroid_surgery I131_treatment query_hypothyroid  ... TT4_measured  \\\n",
       "0        f               f              f                 f  ...            t   \n",
       "1        f               f              f                 f  ...            t   \n",
       "2        f               f              f                 f  ...            t   \n",
       "3        f               f              f                 f  ...            t   \n",
       "4        f               f              f                 f  ...            t   \n",
       "\n",
       "   TT4 T4U_measured   T4U FTI_measured  FTI TBG_measured TBG referral_source  \\\n",
       "0  125            t  1.14            t  109            f   ?            SVHC   \n",
       "1  102            f     ?            f    ?            f   ?           other   \n",
       "2  109            t  0.91            t  120            f   ?           other   \n",
       "3  175            f     ?            f    ?            f   ?           other   \n",
       "4   61            t  0.87            t   70            f   ?             SVI   \n",
       "\n",
       "      Class  \n",
       "0  negative  \n",
       "1  negative  \n",
       "2  negative  \n",
       "3  negative  \n",
       "4  negative  \n",
       "\n",
       "[5 rows x 30 columns]"
      ]
     },
     "execution_count": 3,
     "metadata": {},
     "output_type": "execute_result"
    }
   ],
   "source": [
    "data.head()"
   ]
  },
  {
   "cell_type": "markdown",
   "metadata": {},
   "source": [
    "### Features\n",
    "age - Age of the person\n",
    "\n",
    "sex - Male or Female\n",
    "\n",
    "on_thyroxine - true or false\n",
    "\n",
    "on_antithyroid_medication - true or false\n",
    "\n",
    "sick - true or false\n",
    "\n",
    "pregnant - true or false\n",
    "\n",
    "thyroid_surgery - true or false\n",
    "\n",
    "I131_treatment - true or false\n",
    "\n",
    "query_hypothyroid - true or false\n",
    "\n",
    "query_hyperthyroid -true or false\n",
    "\n",
    "lithium - true or false\n",
    "\n",
    "goitre - true or false\n",
    "\n",
    "tumor - true or false\n",
    "\n",
    "hypopituitary- true or false\n",
    "\n",
    "psych - true or false\n",
    "\n",
    "TSH_measured - true or false\n",
    "\n",
    "TSH - thyroid stimulating hormone floating value\n",
    "\n",
    "T3_measured - true or false\n",
    "\n",
    "T3 - triiodothyronine value\n",
    "\n",
    "TT4_measured- true or false\n",
    "\n",
    "TT4 - Thyroxine value\n",
    "\n",
    "T4U_measured- true or false\n",
    "\n",
    "T4U - numerical value\n",
    "\n",
    "FTI_measured- true or false\n",
    "\n",
    "FTI -Free Thyroxine Index\n",
    "\n",
    "TBG_measured- true or false\n",
    "\n",
    "TBG -Thyroid-Binding Globulin  value\n",
    "\n",
    "referral_source - different sources of referals\n",
    "\n",
    "Class - different types of thyroid"
   ]
  },
  {
   "cell_type": "code",
   "execution_count": 4,
   "metadata": {},
   "outputs": [
    {
     "data": {
      "text/plain": [
       "age                          object\n",
       "sex                          object\n",
       "on_thyroxine                 object\n",
       "query_on_thyroxine           object\n",
       "on_antithyroid_medication    object\n",
       "sick                         object\n",
       "pregnant                     object\n",
       "thyroid_surgery              object\n",
       "I131_treatment               object\n",
       "query_hypothyroid            object\n",
       "query_hyperthyroid           object\n",
       "lithium                      object\n",
       "goitre                       object\n",
       "tumor                        object\n",
       "hypopituitary                object\n",
       "psych                        object\n",
       "TSH_measured                 object\n",
       "TSH                          object\n",
       "T3_measured                  object\n",
       "T3                           object\n",
       "TT4_measured                 object\n",
       "TT4                          object\n",
       "T4U_measured                 object\n",
       "T4U                          object\n",
       "FTI_measured                 object\n",
       "FTI                          object\n",
       "TBG_measured                 object\n",
       "TBG                          object\n",
       "referral_source              object\n",
       "Class                        object\n",
       "dtype: object"
      ]
     },
     "execution_count": 4,
     "metadata": {},
     "output_type": "execute_result"
    }
   ],
   "source": [
    "data.dtypes"
   ]
  },
  {
   "cell_type": "code",
   "execution_count": 5,
   "metadata": {},
   "outputs": [
    {
     "data": {
      "text/html": [
       "<div>\n",
       "<style scoped>\n",
       "    .dataframe tbody tr th:only-of-type {\n",
       "        vertical-align: middle;\n",
       "    }\n",
       "\n",
       "    .dataframe tbody tr th {\n",
       "        vertical-align: top;\n",
       "    }\n",
       "\n",
       "    .dataframe thead th {\n",
       "        text-align: right;\n",
       "    }\n",
       "</style>\n",
       "<table border=\"1\" class=\"dataframe\">\n",
       "  <thead>\n",
       "    <tr style=\"text-align: right;\">\n",
       "      <th></th>\n",
       "      <th>count</th>\n",
       "      <th>unique</th>\n",
       "      <th>top</th>\n",
       "      <th>freq</th>\n",
       "    </tr>\n",
       "  </thead>\n",
       "  <tbody>\n",
       "    <tr>\n",
       "      <th>age</th>\n",
       "      <td>3772</td>\n",
       "      <td>94</td>\n",
       "      <td>59</td>\n",
       "      <td>95</td>\n",
       "    </tr>\n",
       "    <tr>\n",
       "      <th>sex</th>\n",
       "      <td>3772</td>\n",
       "      <td>3</td>\n",
       "      <td>F</td>\n",
       "      <td>2480</td>\n",
       "    </tr>\n",
       "    <tr>\n",
       "      <th>on_thyroxine</th>\n",
       "      <td>3772</td>\n",
       "      <td>2</td>\n",
       "      <td>f</td>\n",
       "      <td>3308</td>\n",
       "    </tr>\n",
       "    <tr>\n",
       "      <th>query_on_thyroxine</th>\n",
       "      <td>3772</td>\n",
       "      <td>2</td>\n",
       "      <td>f</td>\n",
       "      <td>3722</td>\n",
       "    </tr>\n",
       "    <tr>\n",
       "      <th>on_antithyroid_medication</th>\n",
       "      <td>3772</td>\n",
       "      <td>2</td>\n",
       "      <td>f</td>\n",
       "      <td>3729</td>\n",
       "    </tr>\n",
       "    <tr>\n",
       "      <th>sick</th>\n",
       "      <td>3772</td>\n",
       "      <td>2</td>\n",
       "      <td>f</td>\n",
       "      <td>3625</td>\n",
       "    </tr>\n",
       "    <tr>\n",
       "      <th>pregnant</th>\n",
       "      <td>3772</td>\n",
       "      <td>2</td>\n",
       "      <td>f</td>\n",
       "      <td>3719</td>\n",
       "    </tr>\n",
       "    <tr>\n",
       "      <th>thyroid_surgery</th>\n",
       "      <td>3772</td>\n",
       "      <td>2</td>\n",
       "      <td>f</td>\n",
       "      <td>3719</td>\n",
       "    </tr>\n",
       "    <tr>\n",
       "      <th>I131_treatment</th>\n",
       "      <td>3772</td>\n",
       "      <td>2</td>\n",
       "      <td>f</td>\n",
       "      <td>3713</td>\n",
       "    </tr>\n",
       "    <tr>\n",
       "      <th>query_hypothyroid</th>\n",
       "      <td>3772</td>\n",
       "      <td>2</td>\n",
       "      <td>f</td>\n",
       "      <td>3538</td>\n",
       "    </tr>\n",
       "    <tr>\n",
       "      <th>query_hyperthyroid</th>\n",
       "      <td>3772</td>\n",
       "      <td>2</td>\n",
       "      <td>f</td>\n",
       "      <td>3535</td>\n",
       "    </tr>\n",
       "    <tr>\n",
       "      <th>lithium</th>\n",
       "      <td>3772</td>\n",
       "      <td>2</td>\n",
       "      <td>f</td>\n",
       "      <td>3754</td>\n",
       "    </tr>\n",
       "    <tr>\n",
       "      <th>goitre</th>\n",
       "      <td>3772</td>\n",
       "      <td>2</td>\n",
       "      <td>f</td>\n",
       "      <td>3738</td>\n",
       "    </tr>\n",
       "    <tr>\n",
       "      <th>tumor</th>\n",
       "      <td>3772</td>\n",
       "      <td>2</td>\n",
       "      <td>f</td>\n",
       "      <td>3676</td>\n",
       "    </tr>\n",
       "    <tr>\n",
       "      <th>hypopituitary</th>\n",
       "      <td>3772</td>\n",
       "      <td>2</td>\n",
       "      <td>f</td>\n",
       "      <td>3771</td>\n",
       "    </tr>\n",
       "    <tr>\n",
       "      <th>psych</th>\n",
       "      <td>3772</td>\n",
       "      <td>2</td>\n",
       "      <td>f</td>\n",
       "      <td>3588</td>\n",
       "    </tr>\n",
       "    <tr>\n",
       "      <th>TSH_measured</th>\n",
       "      <td>3772</td>\n",
       "      <td>2</td>\n",
       "      <td>t</td>\n",
       "      <td>3403</td>\n",
       "    </tr>\n",
       "    <tr>\n",
       "      <th>TSH</th>\n",
       "      <td>3772</td>\n",
       "      <td>288</td>\n",
       "      <td>?</td>\n",
       "      <td>369</td>\n",
       "    </tr>\n",
       "    <tr>\n",
       "      <th>T3_measured</th>\n",
       "      <td>3772</td>\n",
       "      <td>2</td>\n",
       "      <td>t</td>\n",
       "      <td>3003</td>\n",
       "    </tr>\n",
       "    <tr>\n",
       "      <th>T3</th>\n",
       "      <td>3772</td>\n",
       "      <td>70</td>\n",
       "      <td>?</td>\n",
       "      <td>769</td>\n",
       "    </tr>\n",
       "    <tr>\n",
       "      <th>TT4_measured</th>\n",
       "      <td>3772</td>\n",
       "      <td>2</td>\n",
       "      <td>t</td>\n",
       "      <td>3541</td>\n",
       "    </tr>\n",
       "    <tr>\n",
       "      <th>TT4</th>\n",
       "      <td>3772</td>\n",
       "      <td>242</td>\n",
       "      <td>?</td>\n",
       "      <td>231</td>\n",
       "    </tr>\n",
       "    <tr>\n",
       "      <th>T4U_measured</th>\n",
       "      <td>3772</td>\n",
       "      <td>2</td>\n",
       "      <td>t</td>\n",
       "      <td>3385</td>\n",
       "    </tr>\n",
       "    <tr>\n",
       "      <th>T4U</th>\n",
       "      <td>3772</td>\n",
       "      <td>147</td>\n",
       "      <td>?</td>\n",
       "      <td>387</td>\n",
       "    </tr>\n",
       "    <tr>\n",
       "      <th>FTI_measured</th>\n",
       "      <td>3772</td>\n",
       "      <td>2</td>\n",
       "      <td>t</td>\n",
       "      <td>3387</td>\n",
       "    </tr>\n",
       "    <tr>\n",
       "      <th>FTI</th>\n",
       "      <td>3772</td>\n",
       "      <td>235</td>\n",
       "      <td>?</td>\n",
       "      <td>385</td>\n",
       "    </tr>\n",
       "    <tr>\n",
       "      <th>TBG_measured</th>\n",
       "      <td>3772</td>\n",
       "      <td>1</td>\n",
       "      <td>f</td>\n",
       "      <td>3772</td>\n",
       "    </tr>\n",
       "    <tr>\n",
       "      <th>TBG</th>\n",
       "      <td>3772</td>\n",
       "      <td>1</td>\n",
       "      <td>?</td>\n",
       "      <td>3772</td>\n",
       "    </tr>\n",
       "    <tr>\n",
       "      <th>referral_source</th>\n",
       "      <td>3772</td>\n",
       "      <td>5</td>\n",
       "      <td>other</td>\n",
       "      <td>2201</td>\n",
       "    </tr>\n",
       "    <tr>\n",
       "      <th>Class</th>\n",
       "      <td>3772</td>\n",
       "      <td>4</td>\n",
       "      <td>negative</td>\n",
       "      <td>3481</td>\n",
       "    </tr>\n",
       "  </tbody>\n",
       "</table>\n",
       "</div>"
      ],
      "text/plain": [
       "                          count unique       top  freq\n",
       "age                        3772     94        59    95\n",
       "sex                        3772      3         F  2480\n",
       "on_thyroxine               3772      2         f  3308\n",
       "query_on_thyroxine         3772      2         f  3722\n",
       "on_antithyroid_medication  3772      2         f  3729\n",
       "sick                       3772      2         f  3625\n",
       "pregnant                   3772      2         f  3719\n",
       "thyroid_surgery            3772      2         f  3719\n",
       "I131_treatment             3772      2         f  3713\n",
       "query_hypothyroid          3772      2         f  3538\n",
       "query_hyperthyroid         3772      2         f  3535\n",
       "lithium                    3772      2         f  3754\n",
       "goitre                     3772      2         f  3738\n",
       "tumor                      3772      2         f  3676\n",
       "hypopituitary              3772      2         f  3771\n",
       "psych                      3772      2         f  3588\n",
       "TSH_measured               3772      2         t  3403\n",
       "TSH                        3772    288         ?   369\n",
       "T3_measured                3772      2         t  3003\n",
       "T3                         3772     70         ?   769\n",
       "TT4_measured               3772      2         t  3541\n",
       "TT4                        3772    242         ?   231\n",
       "T4U_measured               3772      2         t  3385\n",
       "T4U                        3772    147         ?   387\n",
       "FTI_measured               3772      2         t  3387\n",
       "FTI                        3772    235         ?   385\n",
       "TBG_measured               3772      1         f  3772\n",
       "TBG                        3772      1         ?  3772\n",
       "referral_source            3772      5     other  2201\n",
       "Class                      3772      4  negative  3481"
      ]
     },
     "execution_count": 5,
     "metadata": {},
     "output_type": "execute_result"
    }
   ],
   "source": [
    "#data summary\n",
    "data.describe().T"
   ]
  },
  {
   "cell_type": "markdown",
   "metadata": {},
   "source": [
    "Inference- In the the dataset the missing values are replaced with invalid values like '?'. replacing such values with 'nan' and check for missing values again."
   ]
  },
  {
   "cell_type": "code",
   "execution_count": 6,
   "metadata": {},
   "outputs": [
    {
     "data": {
      "text/plain": [
       "(3772, 30)"
      ]
     },
     "execution_count": 6,
     "metadata": {},
     "output_type": "execute_result"
    }
   ],
   "source": [
    "data.shape"
   ]
  },
  {
   "cell_type": "code",
   "execution_count": 7,
   "metadata": {},
   "outputs": [
    {
     "name": "stdout",
     "output_type": "stream",
     "text": [
      "age 1\n",
      "sex 150\n",
      "TSH 369\n",
      "T3 769\n",
      "TT4 231\n",
      "T4U 387\n",
      "FTI 385\n",
      "TBG 3772\n"
     ]
    }
   ],
   "source": [
    "for column in data.columns:\n",
    "    count = data[column][data[column]=='?'].count()\n",
    "    if count!=0:\n",
    "        print(column, data[column][data[column]=='?'].count())"
   ]
  },
  {
   "cell_type": "markdown",
   "metadata": {},
   "source": [
    "we can see thatfor column 'TBG' all the values are missing. So we will drop this column as it is of no use to us."
   ]
  },
  {
   "cell_type": "markdown",
   "metadata": {},
   "source": [
    "### Null Value Imputation"
   ]
  },
  {
   "cell_type": "code",
   "execution_count": 8,
   "metadata": {},
   "outputs": [],
   "source": [
    "data = data.drop(['TBG'],axis =1)"
   ]
  },
  {
   "cell_type": "markdown",
   "metadata": {},
   "source": [
    "Also, looking to the dataset, we can see that some columns are with true and false value are just the indication that whether the next column has values or not. Let's see an example:"
   ]
  },
  {
   "cell_type": "markdown",
   "metadata": {},
   "source": [
    "Since, we are any ways going to handle the missing values, there is no point of having such columns in our dataset.\n",
    "\n",
    "dropping such columns as well."
   ]
  },
  {
   "cell_type": "code",
   "execution_count": 9,
   "metadata": {},
   "outputs": [],
   "source": [
    "data = data.drop(['TSH_measured','T3_measured','TT4_measured','T4U_measured','FTI_measured','TBG_measured'],axis =1)"
   ]
  },
  {
   "cell_type": "code",
   "execution_count": 10,
   "metadata": {},
   "outputs": [],
   "source": [
    "# replacing '?'\n",
    "for column in data.columns:\n",
    "    count = data[column][data[column]=='?'].count()\n",
    "    if count!=0:\n",
    "        data[column] = data[column].replace('?',np.nan)    "
   ]
  },
  {
   "cell_type": "code",
   "execution_count": 11,
   "metadata": {},
   "outputs": [
    {
     "name": "stdout",
     "output_type": "stream",
     "text": [
      "age 0\n",
      "sex 0\n",
      "on_thyroxine 0\n",
      "query_on_thyroxine 0\n",
      "on_antithyroid_medication 0\n",
      "sick 0\n",
      "pregnant 0\n",
      "thyroid_surgery 0\n",
      "I131_treatment 0\n",
      "query_hypothyroid 0\n",
      "query_hyperthyroid 0\n",
      "lithium 0\n",
      "goitre 0\n",
      "tumor 0\n",
      "hypopituitary 0\n",
      "psych 0\n",
      "TSH 0\n",
      "T3 0\n",
      "TT4 0\n",
      "T4U 0\n",
      "FTI 0\n",
      "referral_source 0\n",
      "Class 0\n"
     ]
    }
   ],
   "source": [
    "for column in data.columns:\n",
    "    count = data[column][data[column]=='?'].count()\n",
    "    if count==0:\n",
    "        print(column, data[column][data[column]=='?'].count())    "
   ]
  },
  {
   "cell_type": "code",
   "execution_count": 12,
   "metadata": {},
   "outputs": [
    {
     "data": {
      "text/plain": [
       "age                            1\n",
       "sex                          150\n",
       "on_thyroxine                   0\n",
       "query_on_thyroxine             0\n",
       "on_antithyroid_medication      0\n",
       "sick                           0\n",
       "pregnant                       0\n",
       "thyroid_surgery                0\n",
       "I131_treatment                 0\n",
       "query_hypothyroid              0\n",
       "query_hyperthyroid             0\n",
       "lithium                        0\n",
       "goitre                         0\n",
       "tumor                          0\n",
       "hypopituitary                  0\n",
       "psych                          0\n",
       "TSH                          369\n",
       "T3                           769\n",
       "TT4                          231\n",
       "T4U                          387\n",
       "FTI                          385\n",
       "referral_source                0\n",
       "Class                          0\n",
       "dtype: int64"
      ]
     },
     "execution_count": 12,
     "metadata": {},
     "output_type": "execute_result"
    }
   ],
   "source": [
    "data.isna().sum()"
   ]
  },
  {
   "cell_type": "markdown",
   "metadata": {},
   "source": [
    "Since the values are categorical, we have to change them to numerical before we use any imputation techniques.\n",
    "\n",
    "We can use get dummies but since most of the columns have only two distinct categories we will use mapping for them. Why? Because since there are only two categories then the two columns formed after get dummies will both have very high correaltion since they both explain the same thing. So in anyway we will have to drop one of the columns. That's why let's use mapping for such columns.\n",
    "For columns with more than two categories we will use get dummies."
   ]
  },
  {
   "cell_type": "code",
   "execution_count": 13,
   "metadata": {},
   "outputs": [],
   "source": [
    "# mapping sex with 0 and 1\n",
    "data['sex'] = data['sex'].map({'F' : 0, 'M' : 1})"
   ]
  },
  {
   "cell_type": "code",
   "execution_count": 14,
   "metadata": {},
   "outputs": [],
   "source": [
    "#for true or false columns\n",
    "for column in data.columns:\n",
    "    if  len(data[column].unique())==2:\n",
    "        data[column] = data[column].map({'f' : 0, 't' : 1})\n",
    "        "
   ]
  },
  {
   "cell_type": "code",
   "execution_count": 15,
   "metadata": {},
   "outputs": [],
   "source": [
    "# using get_dummies.\n",
    "data = pd.get_dummies(data, columns=['referral_source'])"
   ]
  },
  {
   "cell_type": "code",
   "execution_count": 16,
   "metadata": {},
   "outputs": [
    {
     "data": {
      "text/plain": [
       "negative                   3481\n",
       "compensated_hypothyroid     194\n",
       "primary_hypothyroid          95\n",
       "secondary_hypothyroid         2\n",
       "Name: Class, dtype: int64"
      ]
     },
     "execution_count": 16,
     "metadata": {},
     "output_type": "execute_result"
    }
   ],
   "source": [
    "data['Class'].value_counts()"
   ]
  },
  {
   "cell_type": "code",
   "execution_count": 17,
   "metadata": {},
   "outputs": [],
   "source": [
    "LE = LabelEncoder()\n",
    "\n",
    "data['Class'] =LE.fit_transform(data['Class'])"
   ]
  },
  {
   "cell_type": "code",
   "execution_count": 18,
   "metadata": {},
   "outputs": [
    {
     "data": {
      "text/plain": [
       "1    3481\n",
       "0     194\n",
       "2      95\n",
       "3       2\n",
       "Name: Class, dtype: int64"
      ]
     },
     "execution_count": 18,
     "metadata": {},
     "output_type": "execute_result"
    }
   ],
   "source": [
    "data['Class'].value_counts()"
   ]
  },
  {
   "cell_type": "markdown",
   "metadata": {},
   "source": [
    "### Note-\n",
    "\n",
    "1- negativve\n",
    "\n",
    "0 - compensared hypothyroidism\n",
    "\n",
    "2- primary hypothyroidsm\n",
    "\n",
    "3- secondary hypothyroidim"
   ]
  },
  {
   "cell_type": "code",
   "execution_count": 19,
   "metadata": {},
   "outputs": [
    {
     "data": {
      "text/html": [
       "<div>\n",
       "<style scoped>\n",
       "    .dataframe tbody tr th:only-of-type {\n",
       "        vertical-align: middle;\n",
       "    }\n",
       "\n",
       "    .dataframe tbody tr th {\n",
       "        vertical-align: top;\n",
       "    }\n",
       "\n",
       "    .dataframe thead th {\n",
       "        text-align: right;\n",
       "    }\n",
       "</style>\n",
       "<table border=\"1\" class=\"dataframe\">\n",
       "  <thead>\n",
       "    <tr style=\"text-align: right;\">\n",
       "      <th></th>\n",
       "      <th>age</th>\n",
       "      <th>TSH</th>\n",
       "      <th>T3</th>\n",
       "      <th>TT4</th>\n",
       "      <th>T4U</th>\n",
       "      <th>FTI</th>\n",
       "    </tr>\n",
       "  </thead>\n",
       "  <tbody>\n",
       "    <tr>\n",
       "      <th>count</th>\n",
       "      <td>3771</td>\n",
       "      <td>3403</td>\n",
       "      <td>3003</td>\n",
       "      <td>3541</td>\n",
       "      <td>3385</td>\n",
       "      <td>3387</td>\n",
       "    </tr>\n",
       "    <tr>\n",
       "      <th>unique</th>\n",
       "      <td>93</td>\n",
       "      <td>287</td>\n",
       "      <td>69</td>\n",
       "      <td>241</td>\n",
       "      <td>146</td>\n",
       "      <td>234</td>\n",
       "    </tr>\n",
       "    <tr>\n",
       "      <th>top</th>\n",
       "      <td>59</td>\n",
       "      <td>0.2</td>\n",
       "      <td>2</td>\n",
       "      <td>101</td>\n",
       "      <td>0.99</td>\n",
       "      <td>100</td>\n",
       "    </tr>\n",
       "    <tr>\n",
       "      <th>freq</th>\n",
       "      <td>95</td>\n",
       "      <td>116</td>\n",
       "      <td>238</td>\n",
       "      <td>71</td>\n",
       "      <td>95</td>\n",
       "      <td>73</td>\n",
       "    </tr>\n",
       "  </tbody>\n",
       "</table>\n",
       "</div>"
      ],
      "text/plain": [
       "         age   TSH    T3   TT4   T4U   FTI\n",
       "count   3771  3403  3003  3541  3385  3387\n",
       "unique    93   287    69   241   146   234\n",
       "top       59   0.2     2   101  0.99   100\n",
       "freq      95   116   238    71    95    73"
      ]
     },
     "execution_count": 19,
     "metadata": {},
     "output_type": "execute_result"
    }
   ],
   "source": [
    "#summary of all\n",
    "data.describe(include='object')"
   ]
  },
  {
   "cell_type": "markdown",
   "metadata": {},
   "source": [
    "### imputing the missing values using KNNimputer"
   ]
  },
  {
   "cell_type": "code",
   "execution_count": 20,
   "metadata": {},
   "outputs": [],
   "source": [
    "imputer=KNNImputer(n_neighbors=3, weights='uniform',missing_values=np.nan)\n",
    "new_array=imputer.fit_transform(data) # impute the missing values\n",
    "    # convert the nd-array returned in the step above to a Dataframe\n",
    "new_data=pd.DataFrame(data=np.round(new_array), columns=data.columns)"
   ]
  },
  {
   "cell_type": "code",
   "execution_count": 21,
   "metadata": {},
   "outputs": [
    {
     "data": {
      "text/html": [
       "<div>\n",
       "<style scoped>\n",
       "    .dataframe tbody tr th:only-of-type {\n",
       "        vertical-align: middle;\n",
       "    }\n",
       "\n",
       "    .dataframe tbody tr th {\n",
       "        vertical-align: top;\n",
       "    }\n",
       "\n",
       "    .dataframe thead th {\n",
       "        text-align: right;\n",
       "    }\n",
       "</style>\n",
       "<table border=\"1\" class=\"dataframe\">\n",
       "  <thead>\n",
       "    <tr style=\"text-align: right;\">\n",
       "      <th></th>\n",
       "      <th>age</th>\n",
       "      <th>sex</th>\n",
       "      <th>on_thyroxine</th>\n",
       "      <th>query_on_thyroxine</th>\n",
       "      <th>on_antithyroid_medication</th>\n",
       "      <th>sick</th>\n",
       "      <th>pregnant</th>\n",
       "      <th>thyroid_surgery</th>\n",
       "      <th>I131_treatment</th>\n",
       "      <th>query_hypothyroid</th>\n",
       "      <th>...</th>\n",
       "      <th>T3</th>\n",
       "      <th>TT4</th>\n",
       "      <th>T4U</th>\n",
       "      <th>FTI</th>\n",
       "      <th>Class</th>\n",
       "      <th>referral_source_STMW</th>\n",
       "      <th>referral_source_SVHC</th>\n",
       "      <th>referral_source_SVHD</th>\n",
       "      <th>referral_source_SVI</th>\n",
       "      <th>referral_source_other</th>\n",
       "    </tr>\n",
       "  </thead>\n",
       "  <tbody>\n",
       "    <tr>\n",
       "      <th>count</th>\n",
       "      <td>3772.000000</td>\n",
       "      <td>3772.000000</td>\n",
       "      <td>3772.000000</td>\n",
       "      <td>3772.000000</td>\n",
       "      <td>3772.000000</td>\n",
       "      <td>3772.000000</td>\n",
       "      <td>3772.000000</td>\n",
       "      <td>3772.000000</td>\n",
       "      <td>3772.000000</td>\n",
       "      <td>3772.000000</td>\n",
       "      <td>...</td>\n",
       "      <td>3772.000000</td>\n",
       "      <td>3772.000000</td>\n",
       "      <td>3772.000000</td>\n",
       "      <td>3772.000000</td>\n",
       "      <td>3772.000000</td>\n",
       "      <td>3772.000000</td>\n",
       "      <td>3772.000000</td>\n",
       "      <td>3772.000000</td>\n",
       "      <td>3772.000000</td>\n",
       "      <td>3772.000000</td>\n",
       "    </tr>\n",
       "    <tr>\n",
       "      <th>mean</th>\n",
       "      <td>51.737275</td>\n",
       "      <td>0.307529</td>\n",
       "      <td>0.123012</td>\n",
       "      <td>0.013256</td>\n",
       "      <td>0.011400</td>\n",
       "      <td>0.038971</td>\n",
       "      <td>0.014051</td>\n",
       "      <td>0.014051</td>\n",
       "      <td>0.015642</td>\n",
       "      <td>0.062036</td>\n",
       "      <td>...</td>\n",
       "      <td>2.027306</td>\n",
       "      <td>108.459438</td>\n",
       "      <td>1.020944</td>\n",
       "      <td>110.301166</td>\n",
       "      <td>0.974814</td>\n",
       "      <td>0.029692</td>\n",
       "      <td>0.102333</td>\n",
       "      <td>0.010339</td>\n",
       "      <td>0.274125</td>\n",
       "      <td>0.583510</td>\n",
       "    </tr>\n",
       "    <tr>\n",
       "      <th>std</th>\n",
       "      <td>20.082478</td>\n",
       "      <td>0.461532</td>\n",
       "      <td>0.328494</td>\n",
       "      <td>0.114382</td>\n",
       "      <td>0.106174</td>\n",
       "      <td>0.193552</td>\n",
       "      <td>0.117716</td>\n",
       "      <td>0.117716</td>\n",
       "      <td>0.124101</td>\n",
       "      <td>0.241253</td>\n",
       "      <td>...</td>\n",
       "      <td>0.785068</td>\n",
       "      <td>34.838114</td>\n",
       "      <td>0.165546</td>\n",
       "      <td>32.145618</td>\n",
       "      <td>0.279508</td>\n",
       "      <td>0.169760</td>\n",
       "      <td>0.303126</td>\n",
       "      <td>0.101169</td>\n",
       "      <td>0.446131</td>\n",
       "      <td>0.493042</td>\n",
       "    </tr>\n",
       "    <tr>\n",
       "      <th>min</th>\n",
       "      <td>1.000000</td>\n",
       "      <td>0.000000</td>\n",
       "      <td>0.000000</td>\n",
       "      <td>0.000000</td>\n",
       "      <td>0.000000</td>\n",
       "      <td>0.000000</td>\n",
       "      <td>0.000000</td>\n",
       "      <td>0.000000</td>\n",
       "      <td>0.000000</td>\n",
       "      <td>0.000000</td>\n",
       "      <td>...</td>\n",
       "      <td>0.000000</td>\n",
       "      <td>2.000000</td>\n",
       "      <td>0.000000</td>\n",
       "      <td>2.000000</td>\n",
       "      <td>0.000000</td>\n",
       "      <td>0.000000</td>\n",
       "      <td>0.000000</td>\n",
       "      <td>0.000000</td>\n",
       "      <td>0.000000</td>\n",
       "      <td>0.000000</td>\n",
       "    </tr>\n",
       "    <tr>\n",
       "      <th>25%</th>\n",
       "      <td>36.000000</td>\n",
       "      <td>0.000000</td>\n",
       "      <td>0.000000</td>\n",
       "      <td>0.000000</td>\n",
       "      <td>0.000000</td>\n",
       "      <td>0.000000</td>\n",
       "      <td>0.000000</td>\n",
       "      <td>0.000000</td>\n",
       "      <td>0.000000</td>\n",
       "      <td>0.000000</td>\n",
       "      <td>...</td>\n",
       "      <td>2.000000</td>\n",
       "      <td>88.000000</td>\n",
       "      <td>1.000000</td>\n",
       "      <td>93.000000</td>\n",
       "      <td>1.000000</td>\n",
       "      <td>0.000000</td>\n",
       "      <td>0.000000</td>\n",
       "      <td>0.000000</td>\n",
       "      <td>0.000000</td>\n",
       "      <td>0.000000</td>\n",
       "    </tr>\n",
       "    <tr>\n",
       "      <th>50%</th>\n",
       "      <td>54.000000</td>\n",
       "      <td>0.000000</td>\n",
       "      <td>0.000000</td>\n",
       "      <td>0.000000</td>\n",
       "      <td>0.000000</td>\n",
       "      <td>0.000000</td>\n",
       "      <td>0.000000</td>\n",
       "      <td>0.000000</td>\n",
       "      <td>0.000000</td>\n",
       "      <td>0.000000</td>\n",
       "      <td>...</td>\n",
       "      <td>2.000000</td>\n",
       "      <td>104.000000</td>\n",
       "      <td>1.000000</td>\n",
       "      <td>107.000000</td>\n",
       "      <td>1.000000</td>\n",
       "      <td>0.000000</td>\n",
       "      <td>0.000000</td>\n",
       "      <td>0.000000</td>\n",
       "      <td>0.000000</td>\n",
       "      <td>1.000000</td>\n",
       "    </tr>\n",
       "    <tr>\n",
       "      <th>75%</th>\n",
       "      <td>67.000000</td>\n",
       "      <td>1.000000</td>\n",
       "      <td>0.000000</td>\n",
       "      <td>0.000000</td>\n",
       "      <td>0.000000</td>\n",
       "      <td>0.000000</td>\n",
       "      <td>0.000000</td>\n",
       "      <td>0.000000</td>\n",
       "      <td>0.000000</td>\n",
       "      <td>0.000000</td>\n",
       "      <td>...</td>\n",
       "      <td>2.000000</td>\n",
       "      <td>124.000000</td>\n",
       "      <td>1.000000</td>\n",
       "      <td>124.000000</td>\n",
       "      <td>1.000000</td>\n",
       "      <td>0.000000</td>\n",
       "      <td>0.000000</td>\n",
       "      <td>0.000000</td>\n",
       "      <td>1.000000</td>\n",
       "      <td>1.000000</td>\n",
       "    </tr>\n",
       "    <tr>\n",
       "      <th>max</th>\n",
       "      <td>455.000000</td>\n",
       "      <td>1.000000</td>\n",
       "      <td>1.000000</td>\n",
       "      <td>1.000000</td>\n",
       "      <td>1.000000</td>\n",
       "      <td>1.000000</td>\n",
       "      <td>1.000000</td>\n",
       "      <td>1.000000</td>\n",
       "      <td>1.000000</td>\n",
       "      <td>1.000000</td>\n",
       "      <td>...</td>\n",
       "      <td>11.000000</td>\n",
       "      <td>430.000000</td>\n",
       "      <td>2.000000</td>\n",
       "      <td>395.000000</td>\n",
       "      <td>3.000000</td>\n",
       "      <td>1.000000</td>\n",
       "      <td>1.000000</td>\n",
       "      <td>1.000000</td>\n",
       "      <td>1.000000</td>\n",
       "      <td>1.000000</td>\n",
       "    </tr>\n",
       "  </tbody>\n",
       "</table>\n",
       "<p>8 rows × 27 columns</p>\n",
       "</div>"
      ],
      "text/plain": [
       "               age          sex  on_thyroxine  query_on_thyroxine  \\\n",
       "count  3772.000000  3772.000000   3772.000000         3772.000000   \n",
       "mean     51.737275     0.307529      0.123012            0.013256   \n",
       "std      20.082478     0.461532      0.328494            0.114382   \n",
       "min       1.000000     0.000000      0.000000            0.000000   \n",
       "25%      36.000000     0.000000      0.000000            0.000000   \n",
       "50%      54.000000     0.000000      0.000000            0.000000   \n",
       "75%      67.000000     1.000000      0.000000            0.000000   \n",
       "max     455.000000     1.000000      1.000000            1.000000   \n",
       "\n",
       "       on_antithyroid_medication         sick     pregnant  thyroid_surgery  \\\n",
       "count                3772.000000  3772.000000  3772.000000      3772.000000   \n",
       "mean                    0.011400     0.038971     0.014051         0.014051   \n",
       "std                     0.106174     0.193552     0.117716         0.117716   \n",
       "min                     0.000000     0.000000     0.000000         0.000000   \n",
       "25%                     0.000000     0.000000     0.000000         0.000000   \n",
       "50%                     0.000000     0.000000     0.000000         0.000000   \n",
       "75%                     0.000000     0.000000     0.000000         0.000000   \n",
       "max                     1.000000     1.000000     1.000000         1.000000   \n",
       "\n",
       "       I131_treatment  query_hypothyroid  ...           T3          TT4  \\\n",
       "count     3772.000000        3772.000000  ...  3772.000000  3772.000000   \n",
       "mean         0.015642           0.062036  ...     2.027306   108.459438   \n",
       "std          0.124101           0.241253  ...     0.785068    34.838114   \n",
       "min          0.000000           0.000000  ...     0.000000     2.000000   \n",
       "25%          0.000000           0.000000  ...     2.000000    88.000000   \n",
       "50%          0.000000           0.000000  ...     2.000000   104.000000   \n",
       "75%          0.000000           0.000000  ...     2.000000   124.000000   \n",
       "max          1.000000           1.000000  ...    11.000000   430.000000   \n",
       "\n",
       "               T4U          FTI        Class  referral_source_STMW  \\\n",
       "count  3772.000000  3772.000000  3772.000000           3772.000000   \n",
       "mean      1.020944   110.301166     0.974814              0.029692   \n",
       "std       0.165546    32.145618     0.279508              0.169760   \n",
       "min       0.000000     2.000000     0.000000              0.000000   \n",
       "25%       1.000000    93.000000     1.000000              0.000000   \n",
       "50%       1.000000   107.000000     1.000000              0.000000   \n",
       "75%       1.000000   124.000000     1.000000              0.000000   \n",
       "max       2.000000   395.000000     3.000000              1.000000   \n",
       "\n",
       "       referral_source_SVHC  referral_source_SVHD  referral_source_SVI  \\\n",
       "count           3772.000000           3772.000000          3772.000000   \n",
       "mean               0.102333              0.010339             0.274125   \n",
       "std                0.303126              0.101169             0.446131   \n",
       "min                0.000000              0.000000             0.000000   \n",
       "25%                0.000000              0.000000             0.000000   \n",
       "50%                0.000000              0.000000             0.000000   \n",
       "75%                0.000000              0.000000             1.000000   \n",
       "max                1.000000              1.000000             1.000000   \n",
       "\n",
       "       referral_source_other  \n",
       "count            3772.000000  \n",
       "mean                0.583510  \n",
       "std                 0.493042  \n",
       "min                 0.000000  \n",
       "25%                 0.000000  \n",
       "50%                 1.000000  \n",
       "75%                 1.000000  \n",
       "max                 1.000000  \n",
       "\n",
       "[8 rows x 27 columns]"
      ]
     },
     "execution_count": 21,
     "metadata": {},
     "output_type": "execute_result"
    }
   ],
   "source": [
    "new_data.describe()"
   ]
  },
  {
   "cell_type": "code",
   "execution_count": 22,
   "metadata": {},
   "outputs": [
    {
     "data": {
      "text/plain": [
       "age                          0.0\n",
       "sex                          0.0\n",
       "on_thyroxine                 0.0\n",
       "query_on_thyroxine           0.0\n",
       "on_antithyroid_medication    0.0\n",
       "sick                         0.0\n",
       "pregnant                     0.0\n",
       "thyroid_surgery              0.0\n",
       "I131_treatment               0.0\n",
       "query_hypothyroid            0.0\n",
       "query_hyperthyroid           0.0\n",
       "lithium                      0.0\n",
       "goitre                       0.0\n",
       "tumor                        0.0\n",
       "hypopituitary                0.0\n",
       "psych                        0.0\n",
       "TSH                          0.0\n",
       "T3                           0.0\n",
       "TT4                          0.0\n",
       "T4U                          0.0\n",
       "FTI                          0.0\n",
       "Class                        0.0\n",
       "referral_source_STMW         0.0\n",
       "referral_source_SVHC         0.0\n",
       "referral_source_SVHD         0.0\n",
       "referral_source_SVI          0.0\n",
       "referral_source_other        0.0\n",
       "dtype: float64"
      ]
     },
     "execution_count": 22,
     "metadata": {},
     "output_type": "execute_result"
    }
   ],
   "source": [
    "#checking for null values\n",
    "new_data.isnull().sum()/len(new_data)*100"
   ]
  },
  {
   "cell_type": "markdown",
   "metadata": {},
   "source": [
    "Inference- no missing values in our new dataset. "
   ]
  },
  {
   "cell_type": "markdown",
   "metadata": {},
   "source": [
    "### the distribution for our continous data in the dataset"
   ]
  },
  {
   "cell_type": "code",
   "execution_count": 23,
   "metadata": {},
   "outputs": [
    {
     "data": {
      "image/png": "[encoded data removed]",
      "text/plain": [
       "<Figure size 720x1080 with 6 Axes>"
      ]
     },
     "metadata": {},
     "output_type": "display_data"
    }
   ],
   "source": [
    "columns = ['age','TSH','T3','TT4','T4U','FTI']\n",
    "\n",
    "plt.figure(figsize=(10,15),facecolor='white')\n",
    "pltnumber = 1\n",
    "\n",
    "for column in columns:\n",
    "    ax = plt.subplot(3,2,pltnumber)\n",
    "    sns.distplot(new_data[column])\n",
    "    plt.xlabel(column,fontsize=10)\n",
    "    pltnumber+=1\n",
    "plt.show()"
   ]
  },
  {
   "cell_type": "markdown",
   "metadata": {},
   "source": [
    "The graphs for age, TSH and T3 looks heavely skewed towards left. Let's do some transformations to the data and see if it improves the plot.\n",
    "\n",
    "Before doing log transformation , let's add 1 to each valuue in the column to handle exception when we try to find log of '0'."
   ]
  },
  {
   "cell_type": "code",
   "execution_count": 24,
   "metadata": {},
   "outputs": [
    {
     "data": {
      "image/png": "[encoded data removed]",
      "text/plain": [
       "<Figure size 720x1080 with 6 Axes>"
      ]
     },
     "metadata": {},
     "output_type": "display_data"
    }
   ],
   "source": [
    "columns = ['age','TSH','T3','TT4','T4U','FTI']\n",
    "\n",
    "plt.figure(figsize=(10,15),facecolor='white')\n",
    "plotnumber = 1\n",
    "\n",
    "for column in columns:\n",
    "    new_data[column]+=1\n",
    "    ax = plt.subplot(3,2,plotnumber)\n",
    "    sns.distplot(np.log(new_data[column]))\n",
    "    plt.xlabel(column,fontsize=10)\n",
    "    plotnumber+=1\n",
    "plt.show()"
   ]
  },
  {
   "cell_type": "markdown",
   "metadata": {},
   "source": [
    "After log transformation, rest of the columns look fine but 'TSH' has a weird trend.\n",
    "\n",
    "It won't give much of information so let's drop this column."
   ]
  },
  {
   "cell_type": "code",
   "execution_count": 25,
   "metadata": {},
   "outputs": [],
   "source": [
    "new_data = new_data.drop(['TSH'],axis=1)"
   ]
  },
  {
   "cell_type": "markdown",
   "metadata": {},
   "source": [
    "\n",
    "#### let's see how balanced our dataset in terms of given target classes:"
   ]
  },
  {
   "cell_type": "code",
   "execution_count": 26,
   "metadata": {},
   "outputs": [
    {
     "data": {
      "image/png": "[encoded data removed]",
      "text/plain": [
       "<Figure size 432x288 with 1 Axes>"
      ]
     },
     "metadata": {
      "needs_background": "light"
     },
     "output_type": "display_data"
    }
   ],
   "source": [
    "sns.countplot(new_data['Class'])\n",
    "plt.show()"
   ]
  },
  {
   "cell_type": "markdown",
   "metadata": {},
   "source": [
    "We can clerly see that the dataset is imbalanced. \n",
    "\n",
    "hence we appply smote"
   ]
  },
  {
   "cell_type": "code",
   "execution_count": 27,
   "metadata": {},
   "outputs": [],
   "source": [
    "x = new_data.drop(['Class'],axis=1)\n",
    "y = new_data['Class']\n",
    "rdsmple = RandomOverSampler()\n",
    "x_sampled,y_sampled  = rdsmple.fit_resample(x,y)"
   ]
  },
  {
   "cell_type": "code",
   "execution_count": 28,
   "metadata": {},
   "outputs": [],
   "source": [
    "rdsmple = RandomOverSampler()\n",
    "x_sampled,y_sampled  = rdsmple.fit_resample(x,y)"
   ]
  },
  {
   "cell_type": "code",
   "execution_count": 29,
   "metadata": {},
   "outputs": [
    {
     "data": {
      "text/plain": [
       "(13924, 25)"
      ]
     },
     "execution_count": 29,
     "metadata": {},
     "output_type": "execute_result"
    }
   ],
   "source": [
    "x_sampled.shape"
   ]
  },
  {
   "cell_type": "code",
   "execution_count": 30,
   "metadata": {},
   "outputs": [],
   "source": [
    "x_sampled = pd.DataFrame(data = x_sampled, columns = x.columns)"
   ]
  },
  {
   "cell_type": "code",
   "execution_count": 31,
   "metadata": {},
   "outputs": [
    {
     "data": {
      "text/html": [
       "<div>\n",
       "<style scoped>\n",
       "    .dataframe tbody tr th:only-of-type {\n",
       "        vertical-align: middle;\n",
       "    }\n",
       "\n",
       "    .dataframe tbody tr th {\n",
       "        vertical-align: top;\n",
       "    }\n",
       "\n",
       "    .dataframe thead th {\n",
       "        text-align: right;\n",
       "    }\n",
       "</style>\n",
       "<table border=\"1\" class=\"dataframe\">\n",
       "  <thead>\n",
       "    <tr style=\"text-align: right;\">\n",
       "      <th></th>\n",
       "      <th>age</th>\n",
       "      <th>sex</th>\n",
       "      <th>on_thyroxine</th>\n",
       "      <th>query_on_thyroxine</th>\n",
       "      <th>on_antithyroid_medication</th>\n",
       "      <th>sick</th>\n",
       "      <th>pregnant</th>\n",
       "      <th>thyroid_surgery</th>\n",
       "      <th>I131_treatment</th>\n",
       "      <th>query_hypothyroid</th>\n",
       "      <th>...</th>\n",
       "      <th>psych</th>\n",
       "      <th>T3</th>\n",
       "      <th>TT4</th>\n",
       "      <th>T4U</th>\n",
       "      <th>FTI</th>\n",
       "      <th>referral_source_STMW</th>\n",
       "      <th>referral_source_SVHC</th>\n",
       "      <th>referral_source_SVHD</th>\n",
       "      <th>referral_source_SVI</th>\n",
       "      <th>referral_source_other</th>\n",
       "    </tr>\n",
       "  </thead>\n",
       "  <tbody>\n",
       "    <tr>\n",
       "      <th>0</th>\n",
       "      <td>42.0</td>\n",
       "      <td>0.0</td>\n",
       "      <td>0.0</td>\n",
       "      <td>0.0</td>\n",
       "      <td>0.0</td>\n",
       "      <td>0.0</td>\n",
       "      <td>0.0</td>\n",
       "      <td>0.0</td>\n",
       "      <td>0.0</td>\n",
       "      <td>0.0</td>\n",
       "      <td>...</td>\n",
       "      <td>0.0</td>\n",
       "      <td>3.0</td>\n",
       "      <td>126.0</td>\n",
       "      <td>2.0</td>\n",
       "      <td>110.0</td>\n",
       "      <td>0.0</td>\n",
       "      <td>1.0</td>\n",
       "      <td>0.0</td>\n",
       "      <td>0.0</td>\n",
       "      <td>0.0</td>\n",
       "    </tr>\n",
       "    <tr>\n",
       "      <th>1</th>\n",
       "      <td>24.0</td>\n",
       "      <td>0.0</td>\n",
       "      <td>0.0</td>\n",
       "      <td>0.0</td>\n",
       "      <td>0.0</td>\n",
       "      <td>0.0</td>\n",
       "      <td>0.0</td>\n",
       "      <td>0.0</td>\n",
       "      <td>0.0</td>\n",
       "      <td>0.0</td>\n",
       "      <td>...</td>\n",
       "      <td>0.0</td>\n",
       "      <td>3.0</td>\n",
       "      <td>103.0</td>\n",
       "      <td>2.0</td>\n",
       "      <td>109.0</td>\n",
       "      <td>0.0</td>\n",
       "      <td>0.0</td>\n",
       "      <td>0.0</td>\n",
       "      <td>0.0</td>\n",
       "      <td>1.0</td>\n",
       "    </tr>\n",
       "    <tr>\n",
       "      <th>2</th>\n",
       "      <td>47.0</td>\n",
       "      <td>1.0</td>\n",
       "      <td>0.0</td>\n",
       "      <td>0.0</td>\n",
       "      <td>0.0</td>\n",
       "      <td>0.0</td>\n",
       "      <td>0.0</td>\n",
       "      <td>0.0</td>\n",
       "      <td>0.0</td>\n",
       "      <td>0.0</td>\n",
       "      <td>...</td>\n",
       "      <td>0.0</td>\n",
       "      <td>3.0</td>\n",
       "      <td>110.0</td>\n",
       "      <td>2.0</td>\n",
       "      <td>121.0</td>\n",
       "      <td>0.0</td>\n",
       "      <td>0.0</td>\n",
       "      <td>0.0</td>\n",
       "      <td>0.0</td>\n",
       "      <td>1.0</td>\n",
       "    </tr>\n",
       "    <tr>\n",
       "      <th>3</th>\n",
       "      <td>71.0</td>\n",
       "      <td>0.0</td>\n",
       "      <td>1.0</td>\n",
       "      <td>0.0</td>\n",
       "      <td>0.0</td>\n",
       "      <td>0.0</td>\n",
       "      <td>0.0</td>\n",
       "      <td>0.0</td>\n",
       "      <td>0.0</td>\n",
       "      <td>0.0</td>\n",
       "      <td>...</td>\n",
       "      <td>0.0</td>\n",
       "      <td>3.0</td>\n",
       "      <td>176.0</td>\n",
       "      <td>2.0</td>\n",
       "      <td>178.0</td>\n",
       "      <td>0.0</td>\n",
       "      <td>0.0</td>\n",
       "      <td>0.0</td>\n",
       "      <td>0.0</td>\n",
       "      <td>1.0</td>\n",
       "    </tr>\n",
       "    <tr>\n",
       "      <th>4</th>\n",
       "      <td>71.0</td>\n",
       "      <td>0.0</td>\n",
       "      <td>0.0</td>\n",
       "      <td>0.0</td>\n",
       "      <td>0.0</td>\n",
       "      <td>0.0</td>\n",
       "      <td>0.0</td>\n",
       "      <td>0.0</td>\n",
       "      <td>0.0</td>\n",
       "      <td>0.0</td>\n",
       "      <td>...</td>\n",
       "      <td>0.0</td>\n",
       "      <td>2.0</td>\n",
       "      <td>62.0</td>\n",
       "      <td>2.0</td>\n",
       "      <td>71.0</td>\n",
       "      <td>0.0</td>\n",
       "      <td>0.0</td>\n",
       "      <td>0.0</td>\n",
       "      <td>1.0</td>\n",
       "      <td>0.0</td>\n",
       "    </tr>\n",
       "    <tr>\n",
       "      <th>...</th>\n",
       "      <td>...</td>\n",
       "      <td>...</td>\n",
       "      <td>...</td>\n",
       "      <td>...</td>\n",
       "      <td>...</td>\n",
       "      <td>...</td>\n",
       "      <td>...</td>\n",
       "      <td>...</td>\n",
       "      <td>...</td>\n",
       "      <td>...</td>\n",
       "      <td>...</td>\n",
       "      <td>...</td>\n",
       "      <td>...</td>\n",
       "      <td>...</td>\n",
       "      <td>...</td>\n",
       "      <td>...</td>\n",
       "      <td>...</td>\n",
       "      <td>...</td>\n",
       "      <td>...</td>\n",
       "      <td>...</td>\n",
       "      <td>...</td>\n",
       "    </tr>\n",
       "    <tr>\n",
       "      <th>13919</th>\n",
       "      <td>42.0</td>\n",
       "      <td>1.0</td>\n",
       "      <td>0.0</td>\n",
       "      <td>0.0</td>\n",
       "      <td>0.0</td>\n",
       "      <td>0.0</td>\n",
       "      <td>0.0</td>\n",
       "      <td>0.0</td>\n",
       "      <td>0.0</td>\n",
       "      <td>1.0</td>\n",
       "      <td>...</td>\n",
       "      <td>0.0</td>\n",
       "      <td>3.0</td>\n",
       "      <td>23.0</td>\n",
       "      <td>2.0</td>\n",
       "      <td>58.0</td>\n",
       "      <td>0.0</td>\n",
       "      <td>0.0</td>\n",
       "      <td>0.0</td>\n",
       "      <td>0.0</td>\n",
       "      <td>1.0</td>\n",
       "    </tr>\n",
       "    <tr>\n",
       "      <th>13920</th>\n",
       "      <td>47.0</td>\n",
       "      <td>0.0</td>\n",
       "      <td>0.0</td>\n",
       "      <td>0.0</td>\n",
       "      <td>0.0</td>\n",
       "      <td>0.0</td>\n",
       "      <td>0.0</td>\n",
       "      <td>0.0</td>\n",
       "      <td>0.0</td>\n",
       "      <td>0.0</td>\n",
       "      <td>...</td>\n",
       "      <td>0.0</td>\n",
       "      <td>2.0</td>\n",
       "      <td>49.0</td>\n",
       "      <td>2.0</td>\n",
       "      <td>55.0</td>\n",
       "      <td>0.0</td>\n",
       "      <td>0.0</td>\n",
       "      <td>0.0</td>\n",
       "      <td>0.0</td>\n",
       "      <td>1.0</td>\n",
       "    </tr>\n",
       "    <tr>\n",
       "      <th>13921</th>\n",
       "      <td>42.0</td>\n",
       "      <td>1.0</td>\n",
       "      <td>0.0</td>\n",
       "      <td>0.0</td>\n",
       "      <td>0.0</td>\n",
       "      <td>0.0</td>\n",
       "      <td>0.0</td>\n",
       "      <td>0.0</td>\n",
       "      <td>0.0</td>\n",
       "      <td>1.0</td>\n",
       "      <td>...</td>\n",
       "      <td>0.0</td>\n",
       "      <td>3.0</td>\n",
       "      <td>23.0</td>\n",
       "      <td>2.0</td>\n",
       "      <td>58.0</td>\n",
       "      <td>0.0</td>\n",
       "      <td>0.0</td>\n",
       "      <td>0.0</td>\n",
       "      <td>0.0</td>\n",
       "      <td>1.0</td>\n",
       "    </tr>\n",
       "    <tr>\n",
       "      <th>13922</th>\n",
       "      <td>47.0</td>\n",
       "      <td>0.0</td>\n",
       "      <td>0.0</td>\n",
       "      <td>0.0</td>\n",
       "      <td>0.0</td>\n",
       "      <td>0.0</td>\n",
       "      <td>0.0</td>\n",
       "      <td>0.0</td>\n",
       "      <td>0.0</td>\n",
       "      <td>0.0</td>\n",
       "      <td>...</td>\n",
       "      <td>0.0</td>\n",
       "      <td>2.0</td>\n",
       "      <td>49.0</td>\n",
       "      <td>2.0</td>\n",
       "      <td>55.0</td>\n",
       "      <td>0.0</td>\n",
       "      <td>0.0</td>\n",
       "      <td>0.0</td>\n",
       "      <td>0.0</td>\n",
       "      <td>1.0</td>\n",
       "    </tr>\n",
       "    <tr>\n",
       "      <th>13923</th>\n",
       "      <td>47.0</td>\n",
       "      <td>0.0</td>\n",
       "      <td>0.0</td>\n",
       "      <td>0.0</td>\n",
       "      <td>0.0</td>\n",
       "      <td>0.0</td>\n",
       "      <td>0.0</td>\n",
       "      <td>0.0</td>\n",
       "      <td>0.0</td>\n",
       "      <td>0.0</td>\n",
       "      <td>...</td>\n",
       "      <td>0.0</td>\n",
       "      <td>2.0</td>\n",
       "      <td>49.0</td>\n",
       "      <td>2.0</td>\n",
       "      <td>55.0</td>\n",
       "      <td>0.0</td>\n",
       "      <td>0.0</td>\n",
       "      <td>0.0</td>\n",
       "      <td>0.0</td>\n",
       "      <td>1.0</td>\n",
       "    </tr>\n",
       "  </tbody>\n",
       "</table>\n",
       "<p>13924 rows × 25 columns</p>\n",
       "</div>"
      ],
      "text/plain": [
       "        age  sex  on_thyroxine  query_on_thyroxine  on_antithyroid_medication  \\\n",
       "0      42.0  0.0           0.0                 0.0                        0.0   \n",
       "1      24.0  0.0           0.0                 0.0                        0.0   \n",
       "2      47.0  1.0           0.0                 0.0                        0.0   \n",
       "3      71.0  0.0           1.0                 0.0                        0.0   \n",
       "4      71.0  0.0           0.0                 0.0                        0.0   \n",
       "...     ...  ...           ...                 ...                        ...   \n",
       "13919  42.0  1.0           0.0                 0.0                        0.0   \n",
       "13920  47.0  0.0           0.0                 0.0                        0.0   \n",
       "13921  42.0  1.0           0.0                 0.0                        0.0   \n",
       "13922  47.0  0.0           0.0                 0.0                        0.0   \n",
       "13923  47.0  0.0           0.0                 0.0                        0.0   \n",
       "\n",
       "       sick  pregnant  thyroid_surgery  I131_treatment  query_hypothyroid  \\\n",
       "0       0.0       0.0              0.0             0.0                0.0   \n",
       "1       0.0       0.0              0.0             0.0                0.0   \n",
       "2       0.0       0.0              0.0             0.0                0.0   \n",
       "3       0.0       0.0              0.0             0.0                0.0   \n",
       "4       0.0       0.0              0.0             0.0                0.0   \n",
       "...     ...       ...              ...             ...                ...   \n",
       "13919   0.0       0.0              0.0             0.0                1.0   \n",
       "13920   0.0       0.0              0.0             0.0                0.0   \n",
       "13921   0.0       0.0              0.0             0.0                1.0   \n",
       "13922   0.0       0.0              0.0             0.0                0.0   \n",
       "13923   0.0       0.0              0.0             0.0                0.0   \n",
       "\n",
       "       ...  psych   T3    TT4  T4U    FTI  referral_source_STMW  \\\n",
       "0      ...    0.0  3.0  126.0  2.0  110.0                   0.0   \n",
       "1      ...    0.0  3.0  103.0  2.0  109.0                   0.0   \n",
       "2      ...    0.0  3.0  110.0  2.0  121.0                   0.0   \n",
       "3      ...    0.0  3.0  176.0  2.0  178.0                   0.0   \n",
       "4      ...    0.0  2.0   62.0  2.0   71.0                   0.0   \n",
       "...    ...    ...  ...    ...  ...    ...                   ...   \n",
       "13919  ...    0.0  3.0   23.0  2.0   58.0                   0.0   \n",
       "13920  ...    0.0  2.0   49.0  2.0   55.0                   0.0   \n",
       "13921  ...    0.0  3.0   23.0  2.0   58.0                   0.0   \n",
       "13922  ...    0.0  2.0   49.0  2.0   55.0                   0.0   \n",
       "13923  ...    0.0  2.0   49.0  2.0   55.0                   0.0   \n",
       "\n",
       "       referral_source_SVHC  referral_source_SVHD  referral_source_SVI  \\\n",
       "0                       1.0                   0.0                  0.0   \n",
       "1                       0.0                   0.0                  0.0   \n",
       "2                       0.0                   0.0                  0.0   \n",
       "3                       0.0                   0.0                  0.0   \n",
       "4                       0.0                   0.0                  1.0   \n",
       "...                     ...                   ...                  ...   \n",
       "13919                   0.0                   0.0                  0.0   \n",
       "13920                   0.0                   0.0                  0.0   \n",
       "13921                   0.0                   0.0                  0.0   \n",
       "13922                   0.0                   0.0                  0.0   \n",
       "13923                   0.0                   0.0                  0.0   \n",
       "\n",
       "       referral_source_other  \n",
       "0                        0.0  \n",
       "1                        1.0  \n",
       "2                        1.0  \n",
       "3                        1.0  \n",
       "4                        0.0  \n",
       "...                      ...  \n",
       "13919                    1.0  \n",
       "13920                    1.0  \n",
       "13921                    1.0  \n",
       "13922                    1.0  \n",
       "13923                    1.0  \n",
       "\n",
       "[13924 rows x 25 columns]"
      ]
     },
     "execution_count": 31,
     "metadata": {},
     "output_type": "execute_result"
    }
   ],
   "source": [
    "x_sampled"
   ]
  },
  {
   "cell_type": "code",
   "execution_count": 32,
   "metadata": {},
   "outputs": [
    {
     "data": {
      "image/png": "[encoded data removed]",
      "text/plain": [
       "<Figure size 432x288 with 1 Axes>"
      ]
     },
     "metadata": {
      "needs_background": "light"
     },
     "output_type": "display_data"
    }
   ],
   "source": [
    "sns.countplot(y_sampled)\n",
    "plt.show()"
   ]
  },
  {
   "cell_type": "markdown",
   "metadata": {},
   "source": [
    "### Inference- dataset looks balanced now"
   ]
  },
  {
   "cell_type": "code",
   "execution_count": 33,
   "metadata": {},
   "outputs": [
    {
     "data": {
      "text/html": [
       "<div>\n",
       "<style scoped>\n",
       "    .dataframe tbody tr th:only-of-type {\n",
       "        vertical-align: middle;\n",
       "    }\n",
       "\n",
       "    .dataframe tbody tr th {\n",
       "        vertical-align: top;\n",
       "    }\n",
       "\n",
       "    .dataframe thead th {\n",
       "        text-align: right;\n",
       "    }\n",
       "</style>\n",
       "<table border=\"1\" class=\"dataframe\">\n",
       "  <thead>\n",
       "    <tr style=\"text-align: right;\">\n",
       "      <th></th>\n",
       "      <th>age</th>\n",
       "      <th>sex</th>\n",
       "      <th>on_thyroxine</th>\n",
       "      <th>query_on_thyroxine</th>\n",
       "      <th>on_antithyroid_medication</th>\n",
       "      <th>sick</th>\n",
       "      <th>pregnant</th>\n",
       "      <th>thyroid_surgery</th>\n",
       "      <th>I131_treatment</th>\n",
       "      <th>query_hypothyroid</th>\n",
       "      <th>...</th>\n",
       "      <th>psych</th>\n",
       "      <th>T3</th>\n",
       "      <th>TT4</th>\n",
       "      <th>T4U</th>\n",
       "      <th>FTI</th>\n",
       "      <th>referral_source_STMW</th>\n",
       "      <th>referral_source_SVHC</th>\n",
       "      <th>referral_source_SVHD</th>\n",
       "      <th>referral_source_SVI</th>\n",
       "      <th>referral_source_other</th>\n",
       "    </tr>\n",
       "  </thead>\n",
       "  <tbody>\n",
       "    <tr>\n",
       "      <th>0</th>\n",
       "      <td>42.0</td>\n",
       "      <td>0.0</td>\n",
       "      <td>0.0</td>\n",
       "      <td>0.0</td>\n",
       "      <td>0.0</td>\n",
       "      <td>0.0</td>\n",
       "      <td>0.0</td>\n",
       "      <td>0.0</td>\n",
       "      <td>0.0</td>\n",
       "      <td>0.0</td>\n",
       "      <td>...</td>\n",
       "      <td>0.0</td>\n",
       "      <td>3.0</td>\n",
       "      <td>126.0</td>\n",
       "      <td>2.0</td>\n",
       "      <td>110.0</td>\n",
       "      <td>0.0</td>\n",
       "      <td>1.0</td>\n",
       "      <td>0.0</td>\n",
       "      <td>0.0</td>\n",
       "      <td>0.0</td>\n",
       "    </tr>\n",
       "    <tr>\n",
       "      <th>1</th>\n",
       "      <td>24.0</td>\n",
       "      <td>0.0</td>\n",
       "      <td>0.0</td>\n",
       "      <td>0.0</td>\n",
       "      <td>0.0</td>\n",
       "      <td>0.0</td>\n",
       "      <td>0.0</td>\n",
       "      <td>0.0</td>\n",
       "      <td>0.0</td>\n",
       "      <td>0.0</td>\n",
       "      <td>...</td>\n",
       "      <td>0.0</td>\n",
       "      <td>3.0</td>\n",
       "      <td>103.0</td>\n",
       "      <td>2.0</td>\n",
       "      <td>109.0</td>\n",
       "      <td>0.0</td>\n",
       "      <td>0.0</td>\n",
       "      <td>0.0</td>\n",
       "      <td>0.0</td>\n",
       "      <td>1.0</td>\n",
       "    </tr>\n",
       "    <tr>\n",
       "      <th>2</th>\n",
       "      <td>47.0</td>\n",
       "      <td>1.0</td>\n",
       "      <td>0.0</td>\n",
       "      <td>0.0</td>\n",
       "      <td>0.0</td>\n",
       "      <td>0.0</td>\n",
       "      <td>0.0</td>\n",
       "      <td>0.0</td>\n",
       "      <td>0.0</td>\n",
       "      <td>0.0</td>\n",
       "      <td>...</td>\n",
       "      <td>0.0</td>\n",
       "      <td>3.0</td>\n",
       "      <td>110.0</td>\n",
       "      <td>2.0</td>\n",
       "      <td>121.0</td>\n",
       "      <td>0.0</td>\n",
       "      <td>0.0</td>\n",
       "      <td>0.0</td>\n",
       "      <td>0.0</td>\n",
       "      <td>1.0</td>\n",
       "    </tr>\n",
       "    <tr>\n",
       "      <th>3</th>\n",
       "      <td>71.0</td>\n",
       "      <td>0.0</td>\n",
       "      <td>1.0</td>\n",
       "      <td>0.0</td>\n",
       "      <td>0.0</td>\n",
       "      <td>0.0</td>\n",
       "      <td>0.0</td>\n",
       "      <td>0.0</td>\n",
       "      <td>0.0</td>\n",
       "      <td>0.0</td>\n",
       "      <td>...</td>\n",
       "      <td>0.0</td>\n",
       "      <td>3.0</td>\n",
       "      <td>176.0</td>\n",
       "      <td>2.0</td>\n",
       "      <td>178.0</td>\n",
       "      <td>0.0</td>\n",
       "      <td>0.0</td>\n",
       "      <td>0.0</td>\n",
       "      <td>0.0</td>\n",
       "      <td>1.0</td>\n",
       "    </tr>\n",
       "    <tr>\n",
       "      <th>4</th>\n",
       "      <td>71.0</td>\n",
       "      <td>0.0</td>\n",
       "      <td>0.0</td>\n",
       "      <td>0.0</td>\n",
       "      <td>0.0</td>\n",
       "      <td>0.0</td>\n",
       "      <td>0.0</td>\n",
       "      <td>0.0</td>\n",
       "      <td>0.0</td>\n",
       "      <td>0.0</td>\n",
       "      <td>...</td>\n",
       "      <td>0.0</td>\n",
       "      <td>2.0</td>\n",
       "      <td>62.0</td>\n",
       "      <td>2.0</td>\n",
       "      <td>71.0</td>\n",
       "      <td>0.0</td>\n",
       "      <td>0.0</td>\n",
       "      <td>0.0</td>\n",
       "      <td>1.0</td>\n",
       "      <td>0.0</td>\n",
       "    </tr>\n",
       "  </tbody>\n",
       "</table>\n",
       "<p>5 rows × 25 columns</p>\n",
       "</div>"
      ],
      "text/plain": [
       "    age  sex  on_thyroxine  query_on_thyroxine  on_antithyroid_medication  \\\n",
       "0  42.0  0.0           0.0                 0.0                        0.0   \n",
       "1  24.0  0.0           0.0                 0.0                        0.0   \n",
       "2  47.0  1.0           0.0                 0.0                        0.0   \n",
       "3  71.0  0.0           1.0                 0.0                        0.0   \n",
       "4  71.0  0.0           0.0                 0.0                        0.0   \n",
       "\n",
       "   sick  pregnant  thyroid_surgery  I131_treatment  query_hypothyroid  ...  \\\n",
       "0   0.0       0.0              0.0             0.0                0.0  ...   \n",
       "1   0.0       0.0              0.0             0.0                0.0  ...   \n",
       "2   0.0       0.0              0.0             0.0                0.0  ...   \n",
       "3   0.0       0.0              0.0             0.0                0.0  ...   \n",
       "4   0.0       0.0              0.0             0.0                0.0  ...   \n",
       "\n",
       "   psych   T3    TT4  T4U    FTI  referral_source_STMW  referral_source_SVHC  \\\n",
       "0    0.0  3.0  126.0  2.0  110.0                   0.0                   1.0   \n",
       "1    0.0  3.0  103.0  2.0  109.0                   0.0                   0.0   \n",
       "2    0.0  3.0  110.0  2.0  121.0                   0.0                   0.0   \n",
       "3    0.0  3.0  176.0  2.0  178.0                   0.0                   0.0   \n",
       "4    0.0  2.0   62.0  2.0   71.0                   0.0                   0.0   \n",
       "\n",
       "   referral_source_SVHD  referral_source_SVI  referral_source_other  \n",
       "0                   0.0                  0.0                    0.0  \n",
       "1                   0.0                  0.0                    1.0  \n",
       "2                   0.0                  0.0                    1.0  \n",
       "3                   0.0                  0.0                    1.0  \n",
       "4                   0.0                  1.0                    0.0  \n",
       "\n",
       "[5 rows x 25 columns]"
      ]
     },
     "execution_count": 33,
     "metadata": {},
     "output_type": "execute_result"
    }
   ],
   "source": [
    "x_sampled.head()"
   ]
  },
  {
   "cell_type": "code",
   "execution_count": 34,
   "metadata": {},
   "outputs": [
    {
     "data": {
      "text/plain": [
       "0    1.0\n",
       "1    1.0\n",
       "2    1.0\n",
       "3    1.0\n",
       "4    1.0\n",
       "Name: Class, dtype: float64"
      ]
     },
     "execution_count": 34,
     "metadata": {},
     "output_type": "execute_result"
    }
   ],
   "source": [
    "y_sampled.head()"
   ]
  },
  {
   "cell_type": "code",
   "execution_count": 38,
   "metadata": {},
   "outputs": [],
   "source": [
    "# splitting into test and train\n",
    "\n",
    "X_train, X_test, y_train, y_test = train_test_split(x_sampled,y_sampled,test_size = .3 ,random_state=10)"
   ]
  },
  {
   "cell_type": "code",
   "execution_count": 40,
   "metadata": {},
   "outputs": [
    {
     "name": "stdout",
     "output_type": "stream",
     "text": [
      "(9746, 25)\n",
      "(4178, 25)\n",
      "(9746,)\n",
      "(4178,)\n"
     ]
    }
   ],
   "source": [
    "print(X_train.shape)\n",
    "print(X_test.shape)\n",
    "print(y_train.shape)\n",
    "print(y_test.shape)"
   ]
  },
  {
   "cell_type": "markdown",
   "metadata": {},
   "source": [
    "### Applying Logistic Regression"
   ]
  },
  {
   "cell_type": "code",
   "execution_count": 41,
   "metadata": {},
   "outputs": [
    {
     "data": {
      "text/plain": [
       "LogisticRegression(random_state=10)"
      ]
     },
     "execution_count": 41,
     "metadata": {},
     "output_type": "execute_result"
    }
   ],
   "source": [
    "logreg=LogisticRegression(random_state=10)\n",
    "logreg.fit(X_train, y_train)"
   ]
  },
  {
   "cell_type": "code",
   "execution_count": 43,
   "metadata": {},
   "outputs": [
    {
     "name": "stdout",
     "output_type": "stream",
     "text": [
      "Train results \n",
      "\n",
      "0.7808331623230043\n",
      "\n",
      "\n",
      "[[1393  787  134  132]\n",
      " [ 656 1727   38   32]\n",
      " [ 199   72 2054   86]\n",
      " [   0    0    0 2436]]\n",
      "/n/n               precision    recall  f1-score   support\n",
      "\n",
      "         0.0       0.62      0.57      0.59      2446\n",
      "         1.0       0.67      0.70      0.69      2453\n",
      "         2.0       0.92      0.85      0.89      2411\n",
      "         3.0       0.91      1.00      0.95      2436\n",
      "\n",
      "    accuracy                           0.78      9746\n",
      "   macro avg       0.78      0.78      0.78      9746\n",
      "weighted avg       0.78      0.78      0.78      9746\n",
      "\n"
     ]
    }
   ],
   "source": [
    "#getting train scores\n",
    "print('Train results \\n')\n",
    "y_train_predict = logreg.predict(X_train)\n",
    "model_score = logreg.score(X_train, y_train)\n",
    "print(model_score)\n",
    "print(\"\\n\")\n",
    "print(confusion_matrix(y_train, y_train_predict))\n",
    "print(\"/n/n\",classification_report(y_train, y_train_predict))"
   ]
  },
  {
   "cell_type": "code",
   "execution_count": 44,
   "metadata": {},
   "outputs": [
    {
     "name": "stdout",
     "output_type": "stream",
     "text": [
      "\n",
      "Test results \n",
      "\n",
      "0.7865007180469124\n",
      "\n",
      "\n",
      "[[ 602  340   40   53]\n",
      " [ 273  716   21   18]\n",
      " [  64   32  923   51]\n",
      " [   0    0    0 1045]]\n",
      "              precision    recall  f1-score   support\n",
      "\n",
      "         0.0       0.64      0.58      0.61      1035\n",
      "         1.0       0.66      0.70      0.68      1028\n",
      "         2.0       0.94      0.86      0.90      1070\n",
      "         3.0       0.90      1.00      0.94      1045\n",
      "\n",
      "    accuracy                           0.79      4178\n",
      "   macro avg       0.78      0.79      0.78      4178\n",
      "weighted avg       0.78      0.79      0.78      4178\n",
      "\n"
     ]
    }
   ],
   "source": [
    "#getting test scores\n",
    "print('\\nTest results \\n')\n",
    "y_test_predict = logreg.predict(X_test)\n",
    "model_score = logreg.score(X_test, y_test)\n",
    "print(model_score)\n",
    "print(\"\\n\")\n",
    "print(confusion_matrix(y_test, y_test_predict))\n",
    "print(classification_report(y_test, y_test_predict))"
   ]
  },
  {
   "cell_type": "markdown",
   "metadata": {},
   "source": [
    "### SVM Model"
   ]
  },
  {
   "cell_type": "code",
   "execution_count": 45,
   "metadata": {},
   "outputs": [
    {
     "data": {
      "text/plain": [
       "SVC(random_state=1)"
      ]
     },
     "execution_count": 45,
     "metadata": {},
     "output_type": "execute_result"
    }
   ],
   "source": [
    "from sklearn import svm\n",
    "\n",
    "SVM_model= svm.SVC(random_state=1)\n",
    "SVM_model.fit(X_train, y_train)"
   ]
  },
  {
   "cell_type": "code",
   "execution_count": 46,
   "metadata": {},
   "outputs": [
    {
     "name": "stdout",
     "output_type": "stream",
     "text": [
      "0.8044325877282988\n",
      "\n",
      "\n",
      "[[1748  661   37    0]\n",
      " [ 862 1567   19    5]\n",
      " [  71   45 2089  206]\n",
      " [   0    0    0 2436]]\n",
      "              precision    recall  f1-score   support\n",
      "\n",
      "         0.0       0.65      0.71      0.68      2446\n",
      "         1.0       0.69      0.64      0.66      2453\n",
      "         2.0       0.97      0.87      0.92      2411\n",
      "         3.0       0.92      1.00      0.96      2436\n",
      "\n",
      "    accuracy                           0.80      9746\n",
      "   macro avg       0.81      0.80      0.81      9746\n",
      "weighted avg       0.81      0.80      0.80      9746\n",
      "\n"
     ]
    }
   ],
   "source": [
    "## Performance Matrix on train data set\n",
    "y_train_predict = SVM_model.predict(X_train)\n",
    "model_score = SVM_model.score(X_train, y_train)\n",
    "print(model_score)\n",
    "print(\"\\n\")\n",
    "print(confusion_matrix(y_train, y_train_predict))\n",
    "print(classification_report(y_train, y_train_predict))"
   ]
  },
  {
   "cell_type": "code",
   "execution_count": 47,
   "metadata": {},
   "outputs": [
    {
     "name": "stdout",
     "output_type": "stream",
     "text": [
      "0.7946385830540929\n",
      "\n",
      "\n",
      "[[ 718  294   23    0]\n",
      " [ 373  640   11    4]\n",
      " [  34   20  917   99]\n",
      " [   0    0    0 1045]]\n",
      "              precision    recall  f1-score   support\n",
      "\n",
      "         0.0       0.64      0.69      0.66      1035\n",
      "         1.0       0.67      0.62      0.65      1028\n",
      "         2.0       0.96      0.86      0.91      1070\n",
      "         3.0       0.91      1.00      0.95      1045\n",
      "\n",
      "    accuracy                           0.79      4178\n",
      "   macro avg       0.80      0.79      0.79      4178\n",
      "weighted avg       0.80      0.79      0.79      4178\n",
      "\n"
     ]
    }
   ],
   "source": [
    "## Performance Matrix on test data set\n",
    "y_test_predict = SVM_model.predict(X_test)\n",
    "model_score = SVM_model.score(X_test, y_test)\n",
    "print(model_score)\n",
    "print(\"\\n\")\n",
    "print(confusion_matrix(y_test, y_test_predict))\n",
    "print(classification_report(y_test, y_test_predict))"
   ]
  },
  {
   "cell_type": "markdown",
   "metadata": {},
   "source": [
    "### KNN classifier"
   ]
  },
  {
   "cell_type": "code",
   "execution_count": 48,
   "metadata": {},
   "outputs": [
    {
     "data": {
      "text/plain": [
       "KNeighborsClassifier()"
      ]
     },
     "execution_count": 48,
     "metadata": {},
     "output_type": "execute_result"
    }
   ],
   "source": [
    "from sklearn.neighbors import KNeighborsClassifier\n",
    "\n",
    "KNN_SM_model=KNeighborsClassifier()\n",
    "KNN_SM_model.fit(X_train,y_train)"
   ]
  },
  {
   "cell_type": "code",
   "execution_count": 57,
   "metadata": {},
   "outputs": [
    {
     "data": {
      "text/plain": [
       "{'algorithm': 'auto',\n",
       " 'leaf_size': 30,\n",
       " 'metric': 'minkowski',\n",
       " 'metric_params': None,\n",
       " 'n_jobs': None,\n",
       " 'n_neighbors': 5,\n",
       " 'p': 2,\n",
       " 'weights': 'uniform'}"
      ]
     },
     "execution_count": 57,
     "metadata": {},
     "output_type": "execute_result"
    }
   ],
   "source": [
    "KNN_SM_model.get_params()"
   ]
  },
  {
   "cell_type": "code",
   "execution_count": 49,
   "metadata": {},
   "outputs": [
    {
     "name": "stdout",
     "output_type": "stream",
     "text": [
      "0.9668581982351734\n",
      "\n",
      "\n",
      "[[2446    0    0    0]\n",
      " [ 303 2130   19    1]\n",
      " [   0    0 2411    0]\n",
      " [   0    0    0 2436]]\n",
      "              precision    recall  f1-score   support\n",
      "\n",
      "         0.0       0.89      1.00      0.94      2446\n",
      "         1.0       1.00      0.87      0.93      2453\n",
      "         2.0       0.99      1.00      1.00      2411\n",
      "         3.0       1.00      1.00      1.00      2436\n",
      "\n",
      "    accuracy                           0.97      9746\n",
      "   macro avg       0.97      0.97      0.97      9746\n",
      "weighted avg       0.97      0.97      0.97      9746\n",
      "\n"
     ]
    }
   ],
   "source": [
    "#train\n",
    "y_train_predict = KNN_SM_model.predict(X_train)\n",
    "model_score = KNN_SM_model.score(X_train, y_train)\n",
    "print(model_score)\n",
    "print(\"\\n\")\n",
    "print(confusion_matrix(y_train, y_train_predict))\n",
    "print(classification_report(y_train, y_train_predict))"
   ]
  },
  {
   "cell_type": "code",
   "execution_count": 50,
   "metadata": {},
   "outputs": [
    {
     "name": "stdout",
     "output_type": "stream",
     "text": [
      "0.9511728099569172\n",
      "\n",
      "\n",
      "[[1035    0    0    0]\n",
      " [ 190  824   14    0]\n",
      " [   0    0 1070    0]\n",
      " [   0    0    0 1045]]\n",
      "              precision    recall  f1-score   support\n",
      "\n",
      "         0.0       0.84      1.00      0.92      1035\n",
      "         1.0       1.00      0.80      0.89      1028\n",
      "         2.0       0.99      1.00      0.99      1070\n",
      "         3.0       1.00      1.00      1.00      1045\n",
      "\n",
      "    accuracy                           0.95      4178\n",
      "   macro avg       0.96      0.95      0.95      4178\n",
      "weighted avg       0.96      0.95      0.95      4178\n",
      "\n"
     ]
    }
   ],
   "source": [
    "#test\n",
    "y_test_predict = KNN_SM_model.predict(X_test)\n",
    "model_score = KNN_SM_model.score(X_test, y_test)\n",
    "print(model_score)\n",
    "print(\"\\n\")\n",
    "print(confusion_matrix(y_test, y_test_predict))\n",
    "print(classification_report(y_test, y_test_predict))"
   ]
  },
  {
   "cell_type": "markdown",
   "metadata": {},
   "source": [
    "### Random forest"
   ]
  },
  {
   "cell_type": "code",
   "execution_count": 52,
   "metadata": {},
   "outputs": [
    {
     "data": {
      "text/plain": [
       "RandomForestClassifier(max_depth=8, random_state=12)"
      ]
     },
     "execution_count": 52,
     "metadata": {},
     "output_type": "execute_result"
    }
   ],
   "source": [
    "from sklearn.ensemble import RandomForestClassifier\n",
    "\n",
    "\n",
    "rf_model= RandomForestClassifier(random_state=12,max_depth=8)\n",
    "rf_model.fit(X_train, y_train)"
   ]
  },
  {
   "cell_type": "code",
   "execution_count": 53,
   "metadata": {},
   "outputs": [
    {
     "name": "stdout",
     "output_type": "stream",
     "text": [
      "0.9064231479581367\n",
      "\n",
      "\n",
      "[[2124  322    0    0]\n",
      " [ 552 1886   15    0]\n",
      " [   0   23 2388    0]\n",
      " [   0    0    0 2436]]\n",
      "              precision    recall  f1-score   support\n",
      "\n",
      "         0.0       0.79      0.87      0.83      2446\n",
      "         1.0       0.85      0.77      0.81      2453\n",
      "         2.0       0.99      0.99      0.99      2411\n",
      "         3.0       1.00      1.00      1.00      2436\n",
      "\n",
      "    accuracy                           0.91      9746\n",
      "   macro avg       0.91      0.91      0.91      9746\n",
      "weighted avg       0.91      0.91      0.91      9746\n",
      "\n"
     ]
    }
   ],
   "source": [
    "# Performance on train data set\n",
    "y_train_predict = rf_model.predict(X_train)\n",
    "model_score = rf_model.score(X_train, y_train)\n",
    "print(model_score)\n",
    "print(\"\\n\")\n",
    "print(confusion_matrix(y_train, y_train_predict))\n",
    "print(classification_report(y_train, y_train_predict))"
   ]
  },
  {
   "cell_type": "code",
   "execution_count": 54,
   "metadata": {},
   "outputs": [
    {
     "name": "stdout",
     "output_type": "stream",
     "text": [
      "0.8992340832934418\n",
      "\n",
      "\n",
      "[[ 892  143    0    0]\n",
      " [ 255  759   14    0]\n",
      " [   0    9 1061    0]\n",
      " [   0    0    0 1045]]\n",
      "              precision    recall  f1-score   support\n",
      "\n",
      "         0.0       0.78      0.86      0.82      1035\n",
      "         1.0       0.83      0.74      0.78      1028\n",
      "         2.0       0.99      0.99      0.99      1070\n",
      "         3.0       1.00      1.00      1.00      1045\n",
      "\n",
      "    accuracy                           0.90      4178\n",
      "   macro avg       0.90      0.90      0.90      4178\n",
      "weighted avg       0.90      0.90      0.90      4178\n",
      "\n"
     ]
    }
   ],
   "source": [
    "#performance on test data\n",
    "y_test_predict = rf_model.predict(X_test)\n",
    "model_score = rf_model.score(X_test, y_test)\n",
    "print(model_score)\n",
    "print(\"\\n\")\n",
    "print(confusion_matrix(y_test, y_test_predict))\n",
    "print(classification_report(y_test, y_test_predict))"
   ]
  },
  {
   "cell_type": "markdown",
   "metadata": {},
   "source": [
    "### Inference - KNN gives us the best results in both test and train now making it better by hyperparamter tuning"
   ]
  },
  {
   "cell_type": "code",
   "execution_count": 62,
   "metadata": {},
   "outputs": [],
   "source": [
    "# from sklearn.model_selection import GridSearchCV\n",
    "\n",
    "\n",
    "# param=[{'algorithm': ['auto', 'ball_tree', 'kd_tree', 'brute'],\n",
    "#  'leaf_size': [15,20,30,35,40],\n",
    "#  'n_neighbors': [2,3,4,5,6,7],\n",
    "#  'weights': ['uniform', 'distance']}]\n",
    "# KNN_model=KNeighborsClassifier()\n",
    "# knn_grid = GridSearchCV(estimator= KNN_model,\n",
    "#                         param_grid = param,cv=5)\n",
    "# knn_grid.fit(X_train,y_train)"
   ]
  },
  {
   "cell_type": "markdown",
   "metadata": {},
   "source": [
    "### Note-  after grid search\n",
    "\n",
    "Best parameters for Decision Tree Classifier: {'algorithm': 'auto', 'leaf_size': 15, 'n_neighbors': 2, 'weights': 'distance'}"
   ]
  },
  {
   "cell_type": "code",
   "execution_count": 70,
   "metadata": {},
   "outputs": [
    {
     "data": {
      "text/plain": [
       "KNeighborsClassifier(leaf_size=12, n_neighbors=2)"
      ]
     },
     "execution_count": 70,
     "metadata": {},
     "output_type": "execute_result"
    }
   ],
   "source": [
    "tuned_KNN_model=KNeighborsClassifier(algorithm= 'auto',leaf_size= 12,n_neighbors= 2)\n",
    "tuned_KNN_model.fit(X_train,y_train)"
   ]
  },
  {
   "cell_type": "code",
   "execution_count": 71,
   "metadata": {},
   "outputs": [
    {
     "name": "stdout",
     "output_type": "stream",
     "text": [
      "0.9826595526369792\n",
      "\n",
      "\n",
      "[[2446    0    0    0]\n",
      " [ 169 2284    0    0]\n",
      " [   0    0 2411    0]\n",
      " [   0    0    0 2436]]\n",
      "              precision    recall  f1-score   support\n",
      "\n",
      "         0.0       0.94      1.00      0.97      2446\n",
      "         1.0       1.00      0.93      0.96      2453\n",
      "         2.0       1.00      1.00      1.00      2411\n",
      "         3.0       1.00      1.00      1.00      2436\n",
      "\n",
      "    accuracy                           0.98      9746\n",
      "   macro avg       0.98      0.98      0.98      9746\n",
      "weighted avg       0.98      0.98      0.98      9746\n",
      "\n"
     ]
    }
   ],
   "source": [
    "#train\n",
    "y_train_predict = tuned_KNN_model.predict(X_train)\n",
    "model_score = tuned_KNN_model.score(X_train, y_train)\n",
    "print(model_score)\n",
    "print(\"\\n\")\n",
    "print(confusion_matrix(y_train, y_train_predict))\n",
    "print(classification_report(y_train, y_train_predict))"
   ]
  },
  {
   "cell_type": "code",
   "execution_count": 72,
   "metadata": {},
   "outputs": [
    {
     "name": "stdout",
     "output_type": "stream",
     "text": [
      "0.9607467687888942\n",
      "\n",
      "\n",
      "[[1035    0    0    0]\n",
      " [ 152  864   12    0]\n",
      " [   0    0 1070    0]\n",
      " [   0    0    0 1045]]\n",
      "              precision    recall  f1-score   support\n",
      "\n",
      "         0.0       0.87      1.00      0.93      1035\n",
      "         1.0       1.00      0.84      0.91      1028\n",
      "         2.0       0.99      1.00      0.99      1070\n",
      "         3.0       1.00      1.00      1.00      1045\n",
      "\n",
      "    accuracy                           0.96      4178\n",
      "   macro avg       0.97      0.96      0.96      4178\n",
      "weighted avg       0.97      0.96      0.96      4178\n",
      "\n"
     ]
    }
   ],
   "source": [
    "#test\n",
    "y_test_predict = tuned_KNN_model.predict(X_test)\n",
    "model_score = tuned_KNN_model.score(X_test, y_test)\n",
    "print(model_score)\n",
    "print(\"\\n\")\n",
    "print(confusion_matrix(y_test, y_test_predict))\n",
    "print(classification_report(y_test, y_test_predict))"
   ]
  },
  {
   "cell_type": "markdown",
   "metadata": {},
   "source": [
    "### Cross Validation"
   ]
  },
  {
   "cell_type": "code",
   "execution_count": 76,
   "metadata": {},
   "outputs": [
    {
     "data": {
      "text/plain": [
       "array([0.97128205, 0.97641026, 0.96512821, 0.97641026, 0.97128205,\n",
       "       0.96307692, 0.97638604, 0.9650924 , 0.96714579, 0.97227926])"
      ]
     },
     "execution_count": 76,
     "metadata": {},
     "output_type": "execute_result"
    }
   ],
   "source": [
    "#train data\n",
    "from sklearn.model_selection import cross_val_score\n",
    "scores_train = cross_val_score(tuned_KNN_model, X_train, y_train_predict, cv=10)\n",
    "scores_train"
   ]
  },
  {
   "cell_type": "code",
   "execution_count": 77,
   "metadata": {},
   "outputs": [
    {
     "name": "stdout",
     "output_type": "stream",
     "text": [
      "the average train accuracy of the model is :   0.9704493234349496\n"
     ]
    }
   ],
   "source": [
    "print(\"the average train accuracy of the model is :  \",scores_train.mean())"
   ]
  },
  {
   "cell_type": "code",
   "execution_count": 78,
   "metadata": {},
   "outputs": [
    {
     "data": {
      "text/plain": [
       "array([0.94497608, 0.94019139, 0.92822967, 0.94976077, 0.94736842,\n",
       "       0.94497608, 0.92822967, 0.94258373, 0.94004796, 0.94724221])"
      ]
     },
     "execution_count": 78,
     "metadata": {},
     "output_type": "execute_result"
    }
   ],
   "source": [
    "#for test\n",
    "scores_test = cross_val_score(tuned_KNN_model, X_test, y_test_predict, cv=10)\n",
    "scores_test"
   ]
  },
  {
   "cell_type": "code",
   "execution_count": 79,
   "metadata": {},
   "outputs": [
    {
     "name": "stdout",
     "output_type": "stream",
     "text": [
      "the average test accuracy of the model is :   0.9413605957339393\n"
     ]
    }
   ],
   "source": [
    "print(\"the average test accuracy of the model is :  \",scores_test.mean())"
   ]
  },
  {
   "cell_type": "markdown",
   "metadata": {},
   "source": [
    "### Model Prediction"
   ]
  },
  {
   "cell_type": "code",
   "execution_count": 86,
   "metadata": {},
   "outputs": [
    {
     "data": {
      "image/png": "[encoded data removed]",
      "text/plain": [
       "<Figure size 864x576 with 2 Axes>"
      ]
     },
     "metadata": {
      "needs_background": "light"
     },
     "output_type": "display_data"
    }
   ],
   "source": [
    "#test data info\n",
    "cm=confusion_matrix(y_test,y_test_predict)\n",
    "plt.figure(figsize=((12,8)))\n",
    "sns.heatmap(cm,annot=True,cmap='Blues',fmt='.0f')\n",
    "plt.title(\"Tuned KNN-model test data- Confusion Matrix\",fontsize=20)\n",
    "plt.xlabel(\"actual\",fontsize=15)\n",
    "plt.ylabel(\"predicted\",fontsize=15)\n",
    "plt.show()"
   ]
  },
  {
   "cell_type": "code",
   "execution_count": null,
   "metadata": {},
   "outputs": [],
   "source": []
  }
 ],
 "metadata": {
  "kernelspec": {
   "display_name": "Python 3",
   "language": "python",
   "name": "python3"
  },
  "language_info": {
   "codemirror_mode": {
    "name": "ipython",
    "version": 3
   },
   "file_extension": ".py",
   "mimetype": "text/x-python",
   "name": "python",
   "nbconvert_exporter": "python",
   "pygments_lexer": "ipython3",
   "version": "3.8.5"
  }
 },
 "nbformat": 4,
 "nbformat_minor": 4
}
